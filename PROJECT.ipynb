{
  "nbformat": 4,
  "nbformat_minor": 0,
  "metadata": {
    "colab": {
      "provenance": []
    },
    "kernelspec": {
      "name": "python3",
      "display_name": "Python 3"
    },
    "language_info": {
      "name": "python"
    }
  },
  "cells": [
    {
      "cell_type": "code",
      "execution_count": 10,
      "metadata": {
        "id": "wsSc9-NFZR9R"
      },
      "outputs": [],
      "source": [
        "## You are working in a bank, and you have been given two lists of the employees who worked in 2021.\n",
        "##Employees’ names in list 1 are Ramesh, Suresh, Mahesh, Ali, Jacob, and Saritha. List 2 contains the names of Ali, Mukesh, Mahesh, Jacob, Sai, and Sarita.\n",
        "## Please write a program that helps to identify people who are common in both lists. Please do not use any in-built function.\n",
        "\n"
      ]
    },
    {
      "cell_type": "code",
      "source": [
        "list1=['Ramesh', 'Suresh', 'Mahesh', 'Ali', 'Jacob', 'Saritha']\n",
        "list2=['Ali','Mukesh','Mahesh', 'Jacob','Sai', 'Sarita']\n",
        "for i in list1:\n",
        "  if i in list2:\n",
        "    print(i)\n"
      ],
      "metadata": {
        "id": "DnXC7IllZ1CE",
        "colab": {
          "base_uri": "https://localhost:8080/"
        },
        "outputId": "a2a5572d-0ba0-4c74-e8b7-8adce277f3e0"
      },
      "execution_count": 27,
      "outputs": [
        {
          "output_type": "stream",
          "name": "stdout",
          "text": [
            "Mahesh\n",
            "Ali\n",
            "Jacob\n"
          ]
        }
      ]
    },
    {
      "cell_type": "code",
      "execution_count": 28,
      "metadata": {
        "id": "qlM08_2dbovh"
      },
      "outputs": [],
      "source": [
        "#While entering data, someone entered a few names as a common string “Ramesh Suresh Mohit”.\n",
        "# Please write a program which separates all the names and converts them into a list. Once converted into a list, please write a program that adds their age.\n",
        "#Ramesh:  25\n",
        "#Suresh: 22\n",
        "#Mohit: 26\n",
        "\n"
      ]
    },
    {
      "cell_type": "code",
      "source": [
        "name='Ramesh Suresh Mohit'.split()\n",
        "age=[25,22,26]\n",
        "sum=0\n",
        "for i in age:\n",
        "  sum= sum+i\n",
        "print(f'names: {name}')\n",
        "print(f'total age: {sum}')"
      ],
      "metadata": {
        "id": "RXeAhME_Z2Nx",
        "colab": {
          "base_uri": "https://localhost:8080/"
        },
        "outputId": "cad7009c-cb33-4cb9-f4f4-a04e2a8625ae"
      },
      "execution_count": 29,
      "outputs": [
        {
          "output_type": "stream",
          "name": "stdout",
          "text": [
            "names: ['Ramesh', 'Suresh', 'Mohit']\n",
            "total age: 73\n"
          ]
        }
      ]
    },
    {
      "cell_type": "code",
      "source": [
        "##You are working in a medical store. A patient came to your medical store and asked to buy 2 strips of paracetamol,\n",
        "# 3 strips of azithromycin, and 5 strips of Vitamin C. One strip of paracetamol costs Rs 35,\n",
        " # one strip of azithromycin costs Rs 49, and one strip of vitamin c costs Rs. 33. Patient gave you Rs 2000.\n",
        "  # Please tell us what is the total cost of each medicine, the total cost of all medicine, and how much money you refunded to the patient."
      ],
      "metadata": {
        "id": "cAdeEDkkaC1w"
      },
      "execution_count": 13,
      "outputs": []
    },
    {
      "cell_type": "code",
      "source": [
        "q_paracetamol=2\n",
        "q_azithromycin=3\n",
        "q_Vitamin_C=5\n",
        "\n",
        "cost_paracetamol=35\n",
        "cost_azithromycin=49\n",
        "cost_vitamin_c=33\n",
        "\n",
        "x=q_paracetamol*cost_paracetamol\n",
        "y=q_azithromycin*cost_azithromycin\n",
        "z=q_Vitamin_C*cost_vitamin_c\n",
        "\n",
        "total=q_paracetamol*cost_paracetamol + q_azithromycin*cost_azithromycin +q_Vitamin_C*cost_vitamin_c\n",
        "refund=2000-total\n",
        "print(f'total_cost_paracetamol: {x}')\n",
        "print(f'total_cost_azithromycin: {y}')\n",
        "print(f'total_cost_vitamin_c: {z}')\n",
        "print(f'total cost of all medicine: {total}')\n",
        "print(f'refund: {refund}')"
      ],
      "metadata": {
        "colab": {
          "base_uri": "https://localhost:8080/"
        },
        "id": "fypPw1HpaQOb",
        "outputId": "8eaca596-f78c-4fc7-9493-1e78684234cc"
      },
      "execution_count": 30,
      "outputs": [
        {
          "output_type": "stream",
          "name": "stdout",
          "text": [
            "total_cost_paracetamol: 70\n",
            "total_cost_azithromycin: 147\n",
            "total_cost_vitamin_c: 165\n",
            "total cost of all medicine: 382\n",
            "refund: 1618\n"
          ]
        }
      ]
    },
    {
      "cell_type": "code",
      "source": [
        "##Accept a sentence as input and find the number of vowels in it. Assume that the sentence has no punctuation marks. For example,\n",
        "## I am learning python contains 6 vowels. This function should be applicable for all other different sentences"
      ],
      "metadata": {
        "id": "m9JiO9_DaVJe"
      },
      "execution_count": 14,
      "outputs": []
    },
    {
      "cell_type": "code",
      "source": [
        "vowel=\"aeiouAEIOU\"\n",
        "sen=input()\n",
        "count=0\n",
        "for i in sen:\n",
        "  if i in vowel:\n",
        "     count=count+1\n",
        "print(f'{sen} contains {count} vowel')"
      ],
      "metadata": {
        "colab": {
          "base_uri": "https://localhost:8080/"
        },
        "id": "35G8Ya2Fasj8",
        "outputId": "42e103aa-0741-45c9-beb8-9a924af1deca"
      },
      "execution_count": 31,
      "outputs": [
        {
          "output_type": "stream",
          "name": "stdout",
          "text": [
            "I am learning python\n",
            "I am learning python contains 6 vowel\n"
          ]
        }
      ]
    },
    {
      "cell_type": "code",
      "source": [
        "##You have been appointed by the election commission to create a website.\n",
        "## Your first task is to work on a program which tells candidates if they are eligible for voting or not.\n",
        "## If they are eligible, your output should be ‘Congrats! You are eligible’; otherwise, it should tell that you have to return after X number of years.\n",
        "## The eligibility criteria for voting is 18 years.\n",
        "## If someone is 18 or above, your output should be ‘Congrats! You are eligible’. If someone’s age is 15 years, it should print output as ‘return after 3 years’.\n",
        "\n"
      ],
      "metadata": {
        "id": "gPGbfloqa0hk"
      },
      "execution_count": 17,
      "outputs": []
    },
    {
      "cell_type": "code",
      "source": [
        "age=int(input('enter your age = '))\n",
        "if age>=18:\n",
        "  print ('Congrats! You are eligible.')\n",
        "else:\n",
        "\n",
        "   print(f'return after {18-age} years.')"
      ],
      "metadata": {
        "colab": {
          "base_uri": "https://localhost:8080/"
        },
        "id": "oTLYiX6sbJCv",
        "outputId": "072c0e47-d64b-422a-82c4-1a041bbfa666"
      },
      "execution_count": 32,
      "outputs": [
        {
          "output_type": "stream",
          "name": "stdout",
          "text": [
            "enter your age = 15\n",
            "return after 3 years.\n"
          ]
        }
      ]
    },
    {
      "cell_type": "code",
      "source": [
        "#Given a list of integers, find the cumulative sum of the elements of the list and store them in another list.\n",
        "##A = [1, 2, 3, 4, 5]\n",
        "##Output:\n",
        "##[1, 3, 6, 10, 15]"
      ],
      "metadata": {
        "id": "238MEXdHbrHY"
      },
      "execution_count": 20,
      "outputs": []
    },
    {
      "cell_type": "code",
      "source": [
        "sum=0\n",
        "A = [1, 2, 3, 4, 5]\n",
        "B=[]\n",
        "\n",
        "for i in A:\n",
        "  sum=sum+i\n",
        "\n",
        "  B.append(sum)\n",
        "\n",
        "print(B)"
      ],
      "metadata": {
        "colab": {
          "base_uri": "https://localhost:8080/"
        },
        "id": "Cp_Hn_Wvb2tD",
        "outputId": "265189c5-b8c2-4089-c2d7-4715874eb9f8"
      },
      "execution_count": 33,
      "outputs": [
        {
          "output_type": "stream",
          "name": "stdout",
          "text": [
            "[1, 3, 6, 10, 15]\n"
          ]
        }
      ]
    },
    {
      "cell_type": "code",
      "source": [
        "#Write a program to implement run length encoding of a string\n",
        "#RLE:Consecutive repetition of a character has to be replaced with the count of occurrences and the character.\n",
        "#Enter your string :aabbbccdddae\n",
        "#Encoded: 2a3b2c3d1a1e"
      ],
      "metadata": {
        "id": "SL9Q3vSIb_3K"
      },
      "execution_count": 23,
      "outputs": []
    },
    {
      "cell_type": "code",
      "source": [
        "user_input=input('Enter your string: ')\n",
        "Encoded= \"\"\n",
        "count=1\n",
        "for i in range(1,len(user_input)):\n",
        "  if user_input[i]==user_input[i-1]:\n",
        "    count=count+1\n",
        "  else:\n",
        "       Encoded=Encoded+str(count)+user_input[i-1]\n",
        "       count=1\n",
        "\n",
        "Encoded=Encoded+ str(count)+ user_input[-1]\n",
        "print(f'Encoded: {Encoded}')"
      ],
      "metadata": {
        "colab": {
          "base_uri": "https://localhost:8080/"
        },
        "id": "D0PlaH4icSDS",
        "outputId": "b39da1cd-5f85-4f91-fe1d-49a829340021"
      },
      "execution_count": 34,
      "outputs": [
        {
          "output_type": "stream",
          "name": "stdout",
          "text": [
            "Enter your string: aabbbccdddae\n",
            "Encoded: 2a3b2c3d1a1e\n"
          ]
        }
      ]
    }
  ]
}